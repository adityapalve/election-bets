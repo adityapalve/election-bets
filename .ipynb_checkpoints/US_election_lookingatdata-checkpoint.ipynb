{
 "cells": [
  {
   "cell_type": "code",
   "execution_count": 56,
   "metadata": {},
   "outputs": [],
   "source": [
    "import numpy as np \n",
    "import pandas as pd \n",
    "from numpy.linalg import eig\n",
    "\n",
    "from sklearn.decomposition import PCA\n",
    "from sklearn.cluster import KMeans\n"
   ]
  },
  {
   "cell_type": "code",
   "execution_count": 10,
   "metadata": {},
   "outputs": [],
   "source": [
    "hashtag_trump = pd.read_csv(\"./datasets/hashtag_donaldtrump.csv\",engine =\"python\")\n",
    "hashtag_biden = pd.read_csv(\"./datasets/hashtag_joebiden.csv\",engine =\"python\")\n",
    "biden_tweets = pd.read_csv(\"./datasets/tweets_of_joe_biden.csv\",engine =\"python\")\n",
    "trump_tweets = pd.read_json(\"./datasets/trump-tweets.json\")"
   ]
  },
  {
   "cell_type": "code",
   "execution_count": 55,
   "metadata": {
    "scrolled": false
   },
   "outputs": [
    {
     "ename": "TypeError",
     "evalue": "list indices must be integers or slices, not str",
     "output_type": "error",
     "traceback": [
      "\u001b[1;31m---------------------------------------------------------------------------\u001b[0m",
      "\u001b[1;31mTypeError\u001b[0m                                 Traceback (most recent call last)",
      "Input \u001b[1;32mIn [55]\u001b[0m, in \u001b[0;36m<cell line: 3>\u001b[1;34m()\u001b[0m\n\u001b[0;32m      1\u001b[0m trump_deleted \u001b[38;5;241m=\u001b[39m pd\u001b[38;5;241m.\u001b[39mread_json(\u001b[38;5;124m\"\u001b[39m\u001b[38;5;124m./trump_deleted.json\u001b[39m\u001b[38;5;124m\"\u001b[39m)\n\u001b[0;32m      2\u001b[0m trump_deleted\n\u001b[1;32m----> 3\u001b[0m \u001b[43mtrump_tweets\u001b[49m\u001b[43m[\u001b[49m\u001b[38;5;124;43m'\u001b[39;49m\u001b[38;5;124;43mid\u001b[39;49m\u001b[38;5;124;43m'\u001b[39;49m\u001b[43m]\u001b[49m\n\u001b[0;32m      4\u001b[0m status \u001b[38;5;241m=\u001b[39m \u001b[38;5;28mlist\u001b[39m()\n\u001b[0;32m      5\u001b[0m id_deleted \u001b[38;5;241m=\u001b[39m \u001b[38;5;28mlist\u001b[39m(trump_deleted[\u001b[38;5;124m'\u001b[39m\u001b[38;5;124mid\u001b[39m\u001b[38;5;124m'\u001b[39m])\n",
      "\u001b[1;31mTypeError\u001b[0m: list indices must be integers or slices, not str"
     ]
    }
   ],
   "source": [
    "trump_deleted = pd.read_json(\"./trump_deleted.json\")\n",
    "trump_deleted\n",
    "trump_tweets['id']\n",
    "status = list()\n",
    "id_deleted = list(trump_deleted['id'])\n",
    "print(id_deleted)\n",
    "for ids in trump_tweets['id']:\n",
    "    if(ids in id_deleted):\n",
    "        status.insert(ids,\"Deleted\")\n",
    "    else:\n",
    "        status.insert(ids,\"Not deleted\")\n",
    "status\n",
    "\n"
   ]
  },
  {
   "cell_type": "code",
   "execution_count": null,
   "metadata": {},
   "outputs": [],
   "source": []
  }
 ],
 "metadata": {
  "kernelspec": {
   "display_name": "Python 3 (ipykernel)",
   "language": "python",
   "name": "python3"
  },
  "language_info": {
   "codemirror_mode": {
    "name": "ipython",
    "version": 3
   },
   "file_extension": ".py",
   "mimetype": "text/x-python",
   "name": "python",
   "nbconvert_exporter": "python",
   "pygments_lexer": "ipython3",
   "version": "3.9.12"
  }
 },
 "nbformat": 4,
 "nbformat_minor": 4
}
